{
 "cells": [
  {
   "cell_type": "code",
   "execution_count": 1,
   "id": "82aff12a-eceb-4686-bbb4-964b23f68dfd",
   "metadata": {},
   "outputs": [
    {
     "name": "stdout",
     "output_type": "stream",
     "text": [
      "Sample Data:\n",
      "  label                                            message\n",
      "0   ham  Go until jurong point, crazy.. Available only ...\n",
      "1   ham                      Ok lar... Joking wif u oni...\n",
      "2  spam  Free entry in 2 a wkly comp to win FA Cup fina...\n",
      "3   ham  U dun say so early hor... U c already then say...\n",
      "4   ham  Nah I don't think he goes to usf, he lives aro...\n",
      "\n",
      "Dataset Shape: (5572, 2)\n",
      "\n",
      "Label Counts:\n",
      " label\n",
      "ham     4825\n",
      "spam     747\n",
      "Name: count, dtype: int64\n",
      "\n",
      "✅ Model Accuracy: 99.19 %\n",
      "\n",
      "✅ Classification Report:\n",
      "\n",
      "              precision    recall  f1-score   support\n",
      "\n",
      "           0       0.99      1.00      1.00       966\n",
      "           1       1.00      0.94      0.97       149\n",
      "\n",
      "    accuracy                           0.99      1115\n",
      "   macro avg       1.00      0.97      0.98      1115\n",
      "weighted avg       0.99      0.99      0.99      1115\n",
      "\n"
     ]
    },
    {
     "name": "stderr",
     "output_type": "stream",
     "text": [
      "C:\\Users\\91789\\anaconda3\\Lib\\site-packages\\IPython\\core\\pylabtools.py:170: UserWarning: Glyph 128202 (\\N{BAR CHART}) missing from font(s) DejaVu Sans.\n",
      "  fig.canvas.print_figure(bytes_io, **kw)\n"
     ]
    },
    {
     "data": {
      "image/png": "[encoded data removed]",
      "text/plain": [
       "<Figure size 640x480 with 2 Axes>"
      ]
     },
     "metadata": {},
     "output_type": "display_data"
    },
    {
     "name": "stdout",
     "output_type": "stream",
     "text": [
      "\n",
      "✅ Custom Message Predictions:\n",
      "'You won a lottery of $5000!' => Spam\n",
      "'Hey bro, are we still meeting tomorrow?' => Ham\n"
     ]
    }
   ],
   "source": [
    "# 📘 Task 4: Predictive Machine Learning Model - Spam Email Classifier\n",
    "# 🎓 Internship: Python Programming - CodTech IT Solutions\n",
    "# 👨‍💻 By: satish yadav\n",
    "\n",
    "# ✅ Step 1: Importing Required Libraries\n",
    "import pandas as pd\n",
    "import numpy as np\n",
    "import matplotlib.pyplot as plt\n",
    "import seaborn as sns\n",
    "\n",
    "from sklearn.model_selection import train_test_split\n",
    "from sklearn.feature_extraction.text import CountVectorizer\n",
    "from sklearn.naive_bayes import MultinomialNB\n",
    "from sklearn.metrics import accuracy_score, confusion_matrix, classification_report\n",
    "\n",
    "# ✅ Step 2: Load the SMS Spam Dataset (from online URL)\n",
    "url = \"https://raw.githubusercontent.com/justmarkham/pycon-2016-tutorial/master/data/sms.tsv\"\n",
    "df = pd.read_csv(url, sep='\\t', names=[\"label\", \"message\"])\n",
    "\n",
    "# ✅ Step 3: Basic Exploration\n",
    "print(\"Sample Data:\")\n",
    "print(df.head())\n",
    "\n",
    "print(\"\\nDataset Shape:\", df.shape)\n",
    "print(\"\\nLabel Counts:\\n\", df['label'].value_counts())\n",
    "\n",
    "# ✅ Step 4: Convert text labels (ham/spam) into numbers (0/1)\n",
    "df['label_num'] = df['label'].map({'ham': 0, 'spam': 1})\n",
    "\n",
    "# ✅ Step 5: Split Data into Training and Testing Sets\n",
    "X_train, X_test, y_train, y_test = train_test_split(df['message'], df['label_num'], test_size=0.2, random_state=42)\n",
    "\n",
    "# ✅ Step 6: Convert Text into Vectors using CountVectorizer\n",
    "vectorizer = CountVectorizer()\n",
    "X_train_vec = vectorizer.fit_transform(X_train)\n",
    "X_test_vec = vectorizer.transform(X_test)\n",
    "\n",
    "# ✅ Step 7: Train a Naive Bayes Classifier\n",
    "model = MultinomialNB()\n",
    "model.fit(X_train_vec, y_train)\n",
    "\n",
    "# ✅ Step 8: Make Predictions on Test Data\n",
    "y_pred = model.predict(X_test_vec)\n",
    "\n",
    "# ✅ Step 9: Evaluate the Model\n",
    "accuracy = accuracy_score(y_test, y_pred)\n",
    "print(\"\\n✅ Model Accuracy:\", round(accuracy * 100, 2), \"%\")\n",
    "\n",
    "print(\"\\n✅ Classification Report:\\n\")\n",
    "print(classification_report(y_test, y_pred))\n",
    "\n",
    "# ✅ Step 10: Visualize Confusion Matrix\n",
    "conf_mat = confusion_matrix(y_test, y_pred)\n",
    "sns.heatmap(conf_mat, annot=True, fmt='d', cmap='Greens')\n",
    "plt.title(\"📊 Confusion Matrix\")\n",
    "plt.xlabel(\"Predicted\")\n",
    "plt.ylabel(\"Actual\")\n",
    "plt.show()\n",
    "\n",
    "# ✅ Step 11: Predict Custom Messages\n",
    "custom_messages = [\"You won a lottery of $5000!\", \"Hey bro, are we still meeting tomorrow?\"]\n",
    "custom_vec = vectorizer.transform(custom_messages)\n",
    "custom_pred = model.predict(custom_vec)\n",
    "\n",
    "print(\"\\n✅ Custom Message Predictions:\")\n",
    "for msg, pred in zip(custom_messages, custom_pred):\n",
    "    print(f\"'{msg}' => {'Spam' if pred else 'Ham'}\")\n"
   ]
  },
  {
   "cell_type": "code",
   "execution_count": null,
   "id": "83054aa2-521c-43e1-af83-62797083ba54",
   "metadata": {},
   "outputs": [],
   "source": []
  },
  {
   "cell_type": "code",
   "execution_count": null,
   "id": "285fc788-ceb9-45b1-974c-7675f4ff8c4d",
   "metadata": {},
   "outputs": [],
   "source": []
  }
 ],
 "metadata": {
  "kernelspec": {
   "display_name": "Python [conda env:base] *",
   "language": "python",
   "name": "conda-base-py"
  },
  "language_info": {
   "codemirror_mode": {
    "name": "ipython",
    "version": 3
   },
   "file_extension": ".py",
   "mimetype": "text/x-python",
   "name": "python",
   "nbconvert_exporter": "python",
   "pygments_lexer": "ipython3",
   "version": "3.13.5"
  }
 },
 "nbformat": 4,
 "nbformat_minor": 5
}
